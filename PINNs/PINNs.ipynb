{
 "cells": [
  {
   "cell_type": "code",
   "execution_count": 4,
   "metadata": {},
   "outputs": [],
   "source": [
    "import tensorflow as tf\n",
    "from tensorflow import keras\n",
    "\n",
    "model = keras.Sequential([\n",
    "    keras.layers.Dense(units=128, activation='gelu'),\n",
    "    keras.layers.Dense(units=128, activation='gelu')\n",
    "])\n",
    "\n",
    "data_weight = 1\n",
    "phys_weight = 1\n",
    "\n",
    "mu = tf.Variable(initial_value=1, trainable=True, dtype=tf.float32)\n",
    "\n",
    "model.initialize_variables()\n",
    "optimizer = tf.keras.optimizers.Adam(learning_rate=0.001)\n",
    "\n"
   ]
  },
  {
   "cell_type": "code",
   "execution_count": null,
   "metadata": {},
   "outputs": [],
   "source": [
    "@tf.function\n",
    "def train(t_train, s_train, t_phys):\n",
    "    # Data loss\n",
    "    \n",
    "    # predict displacement\n",
    "    s_train_hat = model.predict(t_train)\n",
    "    # MSE loss between training data and predictions\n",
    "    data_loss = tf.math.reduce_mean(\n",
    "        tf.math.square(s_train - s_train_hat)\n",
    "    )\n",
    "    # Physics loss\n",
    "    \n",
    "    # predict displacement\n",
    "    s_phys_hat = model.predict(t_phys)\n",
    "    # split into individual x and y components\n",
    "    s_x = s_phys_hat[:, 0]\n",
    "    s_y = s_phys_hat[:, 1]\n",
    "    # take the gradients to get predicted velocity and acceleration\n",
    "    v_x = tf.gradients(s_x, t_phys)[0]\n",
    "    v_y = tf.gradients(s_y, t_phys)[0]\n",
    "    a_x = tf.gradients(v_x, t_phys)[0]\n",
    "    a_y = tf.gradients(v_y, t_phys)[0]\n",
    "    # combine individual x and y components into velocity and\n",
    "    # acceleration vectors\n",
    "    v = tf.concat([v_x, v_y], axis=1)\n",
    "    a = tf.concat([a_x, a_y], axis=1)\n",
    "    # as acceleration is the known equation, this is what we want to\n",
    "    # perform gradient descent on.\n",
    "    # therefore, prevent any gradients flowing through the higher\n",
    "    # order (velocity) terms\n",
    "    v = tf.stop_gradient(v)\n",
    "    # define speed (velocity norm, the ||v|| in the equation) and\n",
    "    # gravity vector for physics equation\n",
    "    speed = tf.norm(v, axis=1, keepdims=True)\n",
    "    g = [[0.0, 9.81]]\n",
    "    # MSE between known physics equation and network gradients\n",
    "    phys_loss = tf.math.reduce_mean(\n",
    "        tf.math.square(-mu * speed * v - g - a)\n",
    "    )\n",
    "    # Total loss\n",
    "    \n",
    "    loss = data_weight * data_loss + phys_weight * phys_loss\n",
    "    \n",
    "    # Gradient step\n",
    "    \n",
    "    # minimise the combined loss with respect to both the neural\n",
    "    # network parameters and the unknown physics variable, mu\n",
    "    gradients = tf.gradients(loss, model.train_vars + [mu])\n",
    "    optimizer.apply_gradients(zip(gradients, model.train_vars + [mu]))"
   ]
  }
 ],
 "metadata": {
  "kernelspec": {
   "display_name": ".venv",
   "language": "python",
   "name": "python3"
  },
  "language_info": {
   "codemirror_mode": {
    "name": "ipython",
    "version": 3
   },
   "file_extension": ".py",
   "mimetype": "text/x-python",
   "name": "python",
   "nbconvert_exporter": "python",
   "pygments_lexer": "ipython3",
   "version": "3.9.13"
  }
 },
 "nbformat": 4,
 "nbformat_minor": 2
}
